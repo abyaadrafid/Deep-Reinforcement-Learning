{
  "nbformat": 4,
  "nbformat_minor": 0,
  "metadata": {
    "colab": {
      "name": "Deep and Double Deep Q Learning.ipynb",
      "provenance": [],
      "collapsed_sections": [],
      "authorship_tag": "ABX9TyPtt6tGxlTlr7JihuHdMdy6",
      "include_colab_link": true
    },
    "kernelspec": {
      "name": "python3",
      "display_name": "Python 3"
    },
    "accelerator": "GPU"
  },
  "cells": [
    {
      "cell_type": "markdown",
      "metadata": {
        "id": "view-in-github",
        "colab_type": "text"
      },
      "source": [
        "<a href=\"https://colab.research.google.com/github/abyaadrafid/Deep-Reinforcement-Learning/blob/master/Deep_and_Double_Deep_Q_Learning.ipynb\" target=\"_parent\"><img src=\"https://colab.research.google.com/assets/colab-badge.svg\" alt=\"Open In Colab\"/></a>"
      ]
    },
    {
      "cell_type": "markdown",
      "metadata": {
        "id": "pPCU8G5gQsJI",
        "colab_type": "text"
      },
      "source": [
        "### Installing box2d\n",
        "This installation is necessary to run LunarLander on colab and kaggle kernels.\n",
        "\n",
        "I found this workaround from a reddit https://www.reddit.com/r/MLQuestions/comments/fpxitj/need_help_getting_lunarlanderv2_from_openaigym_to/"
      ]
    },
    {
      "cell_type": "code",
      "metadata": {
        "id": "LnGjhdxEQyi6",
        "colab_type": "code",
        "outputId": "f1f98876-bb45-404f-9206-3ef4ce661e9f",
        "colab": {
          "base_uri": "https://localhost:8080/",
          "height": 527
        }
      },
      "source": [
        "!apt install swig cmake libopenmpi-dev zlib1g-dev\n",
        "!pip install stable-baselines[mpi]==2.10.0 box2d box2d-kengz"
      ],
      "execution_count": 0,
      "outputs": [
        {
          "output_type": "stream",
          "text": [
            "\rReading package lists... 0%\r\rReading package lists... 0%\r\rReading package lists... 0%\r\rReading package lists... 6%\r\rReading package lists... 6%\r\rReading package lists... 6%\r\rReading package lists... 6%\r\rReading package lists... 63%\r\rReading package lists... 63%\r\rReading package lists... 63%\r\rReading package lists... 63%\r\rReading package lists... 71%\r\rReading package lists... 71%\r\rReading package lists... 71%\r\rReading package lists... 71%\r\rReading package lists... 80%\r\rReading package lists... 81%\r\rReading package lists... 81%\r\rReading package lists... 81%\r\rReading package lists... 81%\r\rReading package lists... 81%\r\rReading package lists... 81%\r\rReading package lists... 81%\r\rReading package lists... 81%\r\rReading package lists... 87%\r\rReading package lists... 87%\r\rReading package lists... 87%\r\rReading package lists... 87%\r\rReading package lists... 93%\r\rReading package lists... 93%\r\rReading package lists... 93%\r\rReading package lists... 93%\r\rReading package lists... 93%\r\rReading package lists... 93%\r\rReading package lists... 94%\r\rReading package lists... 94%\r\rReading package lists... 95%\r\rReading package lists... 95%\r\rReading package lists... 98%\r\rReading package lists... 98%\r\rReading package lists... 98%\r\rReading package lists... 98%\r\rReading package lists... Done\r\n",
            "\rBuilding dependency tree... 0%\r\rBuilding dependency tree... 0%\r\rBuilding dependency tree... 50%\r\rBuilding dependency tree... 50%\r\rBuilding dependency tree       \r\n",
            "\rReading state information... 0%\r\rReading state information... 0%\r\rReading state information... Done\r\n",
            "zlib1g-dev is already the newest version (1:1.2.11.dfsg-0ubuntu2).\n",
            "libopenmpi-dev is already the newest version (2.1.1-8).\n",
            "swig is already the newest version (3.0.12-1).\n",
            "cmake is already the newest version (3.10.2-1ubuntu2.18.04.1).\n",
            "0 upgraded, 0 newly installed, 0 to remove and 32 not upgraded.\n",
            "Requirement already satisfied: stable-baselines[mpi]==2.10.0 in /usr/local/lib/python3.6/dist-packages (2.10.0)\n",
            "Requirement already satisfied: box2d in /usr/local/lib/python3.6/dist-packages (2.3.10)\n",
            "Requirement already satisfied: box2d-kengz in /usr/local/lib/python3.6/dist-packages (2.3.3)\n",
            "Requirement already satisfied: gym[atari,classic_control]>=0.11 in /usr/local/lib/python3.6/dist-packages (from stable-baselines[mpi]==2.10.0) (0.17.2)\n",
            "Requirement already satisfied: matplotlib in /usr/local/lib/python3.6/dist-packages (from stable-baselines[mpi]==2.10.0) (3.2.1)\n",
            "Requirement already satisfied: opencv-python in /usr/local/lib/python3.6/dist-packages (from stable-baselines[mpi]==2.10.0) (4.1.2.30)\n",
            "Requirement already satisfied: cloudpickle>=0.5.5 in /usr/local/lib/python3.6/dist-packages (from stable-baselines[mpi]==2.10.0) (1.3.0)\n",
            "Requirement already satisfied: numpy in /usr/local/lib/python3.6/dist-packages (from stable-baselines[mpi]==2.10.0) (1.18.5)\n",
            "Requirement already satisfied: pandas in /usr/local/lib/python3.6/dist-packages (from stable-baselines[mpi]==2.10.0) (1.0.4)\n",
            "Requirement already satisfied: joblib in /usr/local/lib/python3.6/dist-packages (from stable-baselines[mpi]==2.10.0) (0.15.1)\n",
            "Requirement already satisfied: scipy in /usr/local/lib/python3.6/dist-packages (from stable-baselines[mpi]==2.10.0) (1.4.1)\n",
            "Requirement already satisfied: mpi4py; extra == \"mpi\" in /usr/local/lib/python3.6/dist-packages (from stable-baselines[mpi]==2.10.0) (3.0.3)\n",
            "Requirement already satisfied: pyglet<=1.5.0,>=1.4.0 in /usr/local/lib/python3.6/dist-packages (from gym[atari,classic_control]>=0.11->stable-baselines[mpi]==2.10.0) (1.5.0)\n",
            "Requirement already satisfied: Pillow; extra == \"atari\" in /usr/local/lib/python3.6/dist-packages (from gym[atari,classic_control]>=0.11->stable-baselines[mpi]==2.10.0) (7.0.0)\n",
            "Requirement already satisfied: atari-py~=0.2.0; extra == \"atari\" in /usr/local/lib/python3.6/dist-packages (from gym[atari,classic_control]>=0.11->stable-baselines[mpi]==2.10.0) (0.2.6)\n",
            "Requirement already satisfied: pyparsing!=2.0.4,!=2.1.2,!=2.1.6,>=2.0.1 in /usr/local/lib/python3.6/dist-packages (from matplotlib->stable-baselines[mpi]==2.10.0) (2.4.7)\n",
            "Requirement already satisfied: python-dateutil>=2.1 in /usr/local/lib/python3.6/dist-packages (from matplotlib->stable-baselines[mpi]==2.10.0) (2.8.1)\n",
            "Requirement already satisfied: cycler>=0.10 in /usr/local/lib/python3.6/dist-packages (from matplotlib->stable-baselines[mpi]==2.10.0) (0.10.0)\n",
            "Requirement already satisfied: kiwisolver>=1.0.1 in /usr/local/lib/python3.6/dist-packages (from matplotlib->stable-baselines[mpi]==2.10.0) (1.2.0)\n",
            "Requirement already satisfied: pytz>=2017.2 in /usr/local/lib/python3.6/dist-packages (from pandas->stable-baselines[mpi]==2.10.0) (2018.9)\n",
            "Requirement already satisfied: future in /usr/local/lib/python3.6/dist-packages (from pyglet<=1.5.0,>=1.4.0->gym[atari,classic_control]>=0.11->stable-baselines[mpi]==2.10.0) (0.16.0)\n",
            "Requirement already satisfied: six in /usr/local/lib/python3.6/dist-packages (from atari-py~=0.2.0; extra == \"atari\"->gym[atari,classic_control]>=0.11->stable-baselines[mpi]==2.10.0) (1.12.0)\n"
          ],
          "name": "stdout"
        }
      ]
    },
    {
      "cell_type": "markdown",
      "metadata": {
        "id": "CWQKkhdxRdqm",
        "colab_type": "text"
      },
      "source": [
        "### Doing imports"
      ]
    },
    {
      "cell_type": "code",
      "metadata": {
        "id": "K2eXP5l6Qz9G",
        "colab_type": "code",
        "colab": {}
      },
      "source": [
        "import random\n",
        "import sys\n",
        "from time import time\n",
        "from collections import deque, defaultdict, namedtuple\n",
        "import numpy as np\n",
        "import pandas as pd\n",
        "import gym\n",
        "import torch\n",
        "import torch.nn as nn\n",
        "import torch.nn.functional as F\n",
        "import torch.optim as optim\n",
        "\n",
        "import matplotlib.pyplot as plt\n",
        "from google.colab import drive \n",
        "%matplotlib inline\n",
        "\n",
        "plt.style.use('seaborn')"
      ],
      "execution_count": 0,
      "outputs": []
    },
    {
      "cell_type": "markdown",
      "metadata": {
        "id": "ZbOtIiXsRhFN",
        "colab_type": "text"
      },
      "source": [
        "### Setting up our environment"
      ]
    },
    {
      "cell_type": "code",
      "metadata": {
        "id": "l2FJDgjvQ6k9",
        "colab_type": "code",
        "outputId": "af1d87e7-d30b-4f97-dd64-49645b9c8c0c",
        "colab": {
          "base_uri": "https://localhost:8080/",
          "height": 51
        }
      },
      "source": [
        "env = gym.make('LunarLander-v2')\n",
        "env.seed(0)\n",
        "print(env.action_space)\n",
        "print(env.observation_space)"
      ],
      "execution_count": 0,
      "outputs": [
        {
          "output_type": "stream",
          "text": [
            "Discrete(4)\n",
            "Box(8,)\n"
          ],
          "name": "stdout"
        }
      ]
    },
    {
      "cell_type": "code",
      "metadata": {
        "id": "dEgRTqWmQ8FF",
        "colab_type": "code",
        "colab": {}
      },
      "source": [
        "device = torch.device('cuda:0' if torch.cuda.is_available() else 'cpu')"
      ],
      "execution_count": 0,
      "outputs": []
    },
    {
      "cell_type": "markdown",
      "metadata": {
        "id": "yJuMe2PqRmnO",
        "colab_type": "text"
      },
      "source": [
        "### Template for Deep Network\n",
        "In the context of Deep Q Learning and its other variants, neural networks are used as the Q table. This class will serve as the template neural network and will be used throughout the whole experiment.\n",
        "\n",
        "The neural network of the agents can be arbitrarily deep, but we do not need very deep networks for solving the lunar lander environment. Also, as the environment only has 4 actions and 8 dimensional states, only linear layers will suffice. \n",
        "\n",
        "\n",
        "We will work with convolutional neural networks with the CartPole environment at some later time.\n",
        "\n",
        "The network has three linear layers with two relu activations sandwiched within. The final layer does not have any activations because we need the raw outputs from our network to calculate the Q values, unlike classification models that output probabilites.\n"
      ]
    },
    {
      "cell_type": "code",
      "metadata": {
        "id": "ImFiKi0YRAOt",
        "colab_type": "code",
        "colab": {}
      },
      "source": [
        "class DQN(nn.Module):\n",
        "    def __init__(self, state_size, fc1_size, fc2_size, action_size, seed):\n",
        "        super(DQN, self).__init__()\n",
        "        self.seed = torch.manual_seed(seed)\n",
        "        self.fc1 = nn.Linear(state_size, fc1_size)\n",
        "        self.fc2 = nn.Linear(fc1_size, fc2_size)\n",
        "        self.fc3 = nn.Linear(fc2_size, action_size)  \n",
        "        \n",
        "    def forward(self, x):\n",
        "        x = F.relu(self.fc1(x))\n",
        "        x = F.relu(self.fc2(x))\n",
        "        x = self.fc3(x)\n",
        "        \n",
        "        return x        "
      ],
      "execution_count": 0,
      "outputs": []
    },
    {
      "cell_type": "markdown",
      "metadata": {
        "id": "jmNzOujgbA1U",
        "colab_type": "text"
      },
      "source": [
        "###Experience Replay\n",
        "\n",
        "Experience replay is a technique that allows deep reinforcement learning agents to use memorize and reuse past experiences. When training the network, random samples from the replay memory are used instead of the most recent transition. \n",
        "\n",
        "One of the reasons Deep Reinforcement Learning algorithms were not popular was the instability of the networks. This happens because of highly similar training examples when they are sampled subsequently. There might be linear dependece among these samples.\n",
        "\n",
        "Taking random samples breaks the similarity of subsequent training samples, which otherwise might drive the network into a local minimum."
      ]
    },
    {
      "cell_type": "code",
      "metadata": {
        "id": "iY3aC-V9RBk9",
        "colab_type": "code",
        "colab": {}
      },
      "source": [
        "class ReplayMemory():\n",
        "    def __init__(self, buffer_size, batch_size, seed):\n",
        "        self.batch_size = batch_size\n",
        "        self.seed = random.seed(seed)\n",
        "        self.memory = deque(maxlen=buffer_size)\n",
        "        self.experience = namedtuple(\"Experience\", field_names=[\"state\", \"action\", \"reward\", \"next_state\", \"done\"])\n",
        "    \n",
        "    def add_experience(self, state, action, reward, next_state, done):\n",
        "        experience = self.experience(state, action, reward, next_state, done)\n",
        "        self.memory.append(experience)\n",
        "                \n",
        "    def sample(self):\n",
        "        experiences = random.sample(self.memory, k=self.batch_size)\n",
        "        \n",
        "        states = torch.from_numpy(np.vstack([experience.state for experience in experiences if experience is not None])).float().to(device)\n",
        "        actions = torch.from_numpy(np.vstack([experience.action for experience in experiences if experience is not None])).long().to(device)        \n",
        "        rewards = torch.from_numpy(np.vstack([experience.reward for experience in experiences if experience is not None])).float().to(device)        \n",
        "        next_states = torch.from_numpy(np.vstack([experience.next_state for experience in experiences if experience is not None])).float().to(device)  \n",
        "        dones = torch.from_numpy(np.vstack([experience.done for experience in experiences if experience is not None]).astype(np.uint8)).float().to(device)        \n",
        "        \n",
        "        return (states, actions, rewards, next_states, dones)\n",
        "        \n",
        "    def __len__(self):\n",
        "        return len(self.memory)\n",
        "    "
      ],
      "execution_count": 0,
      "outputs": []
    },
    {
      "cell_type": "markdown",
      "metadata": {
        "id": "8QCY-u0KEowp",
        "colab_type": "text"
      },
      "source": [
        "### Environment and Agent Hyperparameters"
      ]
    },
    {
      "cell_type": "markdown",
      "metadata": {
        "id": "DzX0tmpAFLlp",
        "colab_type": "text"
      },
      "source": [
        "#### Exploration- Exploitation tradeoff\n",
        "\n",
        "One of the most basic ideas in RL is the exploration-exploitation tradeoff. It's basically a dilemma about what action to take in a certain state. The agent can take a random action, which can result in a better/worse reward; or it can take an action that it already knows the reward of. Now, if the agent keeps taking the known actions, (in other words keeps exploiting the actions), it may never explore all of the action-state space and may never find the optimal action for that state.\n",
        "\n",
        "A thought experiment should help clear out the idea. Let's say you go to a new restaurant and randomly order a food from the menu. The food arrives and you moderately like it. Next time you visit the restaurant again, you have two choices : either reorder the food you already moderately like or order another random food from the menu. In other words, you can *exploit* your prior knowledge about the menu, or you can *explore* more things about the menu.\n",
        "You might find the new food better, which will increase your reward. But you could also find it worse, which will decrease your reward. Assuming your goal is to maximize your reward aggregated thorughtout all the times you visit the restaurant, this posits a dilemma. This is the exploitation-exploration tradeoff. \n",
        "\n",
        "The exploration-exploitation needs to be adjusted for an agent to perform well. An agent that does too much exploration does not maximize the reward, and the agent that does not exploit enough might never find the maximum reward for any action.\n",
        "\n",
        "To control how much our agent explores/exploits, we use a hyperparameter named epsilon. It basically detones the probability of taking exploratory (random) action for a given state."
      ]
    },
    {
      "cell_type": "code",
      "metadata": {
        "id": "g1GjxWJJJagq",
        "colab_type": "code",
        "colab": {}
      },
      "source": [
        "EPS_START = 1.0    \n",
        "EPS_DECAY = 0.999    \n",
        "EPS_MIN = 0.01"
      ],
      "execution_count": 0,
      "outputs": []
    },
    {
      "cell_type": "markdown",
      "metadata": {
        "id": "BAx0MYVAKYFz",
        "colab_type": "text"
      },
      "source": [
        "We start with an epsilon of 1 and then decay it over time with a factor of 0.999. We still want to keep some exploration for our agent. So we fix the lowest epsilon value that it doesn't become too small."
      ]
    },
    {
      "cell_type": "code",
      "metadata": {
        "id": "0c_R5J_RV9mh",
        "colab_type": "code",
        "colab": {}
      },
      "source": [
        "TAU = 1e-3              \n",
        "LR = 1e-4        \n",
        "GAMMA = 0.99           \n",
        "UPDATE_EVERY = 4      \n",
        "BUFFER_SIZE = int(1e5)\n",
        "BATCH_SIZE = 64    "
      ],
      "execution_count": 0,
      "outputs": []
    },
    {
      "cell_type": "code",
      "metadata": {
        "id": "rmCjT0TFEoOq",
        "colab_type": "code",
        "colab": {}
      },
      "source": [
        "FC1_SIZE = 128\n",
        "FC2_SIZE = 256   \n",
        "    \n",
        "MAX_EPISODES = 2000  \n",
        "MAX_STEPS = 1000     \n",
        "ENV_SOLVED = 200    \n",
        "PRINT_EVERY = 100    "
      ],
      "execution_count": 0,
      "outputs": []
    },
    {
      "cell_type": "markdown",
      "metadata": {
        "id": "T8pcB3PhfySU",
        "colab_type": "text"
      },
      "source": [
        "### Deep Q Agent\n",
        "\n",
        "This is an agent with a Replay Memory and one deep q network. This is the simplest form of Deep Q Learning agent that actually works."
      ]
    },
    {
      "cell_type": "code",
      "metadata": {
        "id": "pS-HRjH0RDNN",
        "colab_type": "code",
        "colab": {}
      },
      "source": [
        "class DeepQAgent():\n",
        "    def __init__(self, state_size,fc1_size,fc2_size, action_size, seed):\n",
        "        self.state_size = state_size\n",
        "        self.action_size = action_size\n",
        "        self.seed = random.seed(seed)\n",
        "\n",
        "\n",
        "        self.q_network = DQN(state_size, fc1_size, fc2_size, action_size, seed).to(device)\n",
        "        self.optimizer = optim.Adam(self.q_network.parameters())\n",
        "\n",
        "        self.memory = ReplayMemory(BUFFER_SIZE, BATCH_SIZE, seed)\n",
        "        self.timestep = 0\n",
        "        \n",
        "    def step(self, state, action, reward, next_state, done):\n",
        "        self.memory.add_experience(state, action, reward, next_state, done)\n",
        "        self.timestep += 1\n",
        "        if self.timestep % UPDATE_EVERY == 0:\n",
        "            if len(self.memory) > BATCH_SIZE:\n",
        "                sampled_experiences = self.memory.sample()\n",
        "                self.learn(sampled_experiences)\n",
        "        \n",
        "    def learn(self, experiences):\n",
        "        states, actions, rewards, next_states, dones = experiences\n",
        "        \n",
        "        Q_output = self.q_network(states).gather(1, actions)\n",
        "        \n",
        "        action_values = self.q_network(next_states).detach()  \n",
        "        max_action_values = action_values.max(1)[0].unsqueeze(1)\n",
        "        Q_target = rewards + GAMMA * max_action_values * (1 - dones)\n",
        "        \n",
        "        loss = F.mse_loss(Q_output, Q_target)\n",
        "\n",
        "        self.optimizer.zero_grad()\n",
        "        loss.backward()\n",
        "        self.optimizer.step()\n",
        "        \n",
        "    def act(self, state, eps=0.0):\n",
        "        rnd = random.random()\n",
        "        if rnd < eps:\n",
        "            return np.random.randint(self.action_size)\n",
        "        else:\n",
        "            state = torch.from_numpy(state).float().unsqueeze(0).to(device)\n",
        "\n",
        "            self.q_network.eval()\n",
        "            with torch.no_grad():\n",
        "                action_values = self.q_network(state)\n",
        "\n",
        "            self.q_network.train()\n",
        "            action = np.argmax(action_values.cpu().data.numpy())\n",
        "            return action    \n",
        "        \n",
        "    def checkpoint(self, filename):\n",
        "        torch.save(self.q_network.state_dict(), filename)"
      ],
      "execution_count": 0,
      "outputs": []
    },
    {
      "cell_type": "markdown",
      "metadata": {
        "id": "hNNovOProUoP",
        "colab_type": "text"
      },
      "source": [
        "### Double Deep Q Agent with a Target Network\n",
        "\n",
        "In the previous version we used the same q network to obtain our Q target and Q eval. We can also use two different networks to get two of our values. We'll keep one of the networks fixed and call it a target network. \n",
        "\n",
        "#### Why use a target network\n",
        "\n",
        "\n"
      ]
    },
    {
      "cell_type": "code",
      "metadata": {
        "id": "K-oEupUaoT0T",
        "colab_type": "code",
        "colab": {}
      },
      "source": [
        "class DoubleDeepQAgent():\n",
        "  def __init__(self, state_size, fc1_size, fc2_size, action_size, seed = 0):\n",
        "    self.state_size = state_size\n",
        "    self.action_size = action_size\n",
        "    self.seed = random.seed(seed)\n",
        "\n",
        "    self.q_network = DQN(self.state_size, fc1_size, fc2_size, self.action_size, seed).to(device)\n",
        "    self.target_network = DQN(self.state_size, fc1_size, fc2_size, self.action_size, seed).to(device)\n",
        "    self.optimizer = optim.Adam(self.q_network.parameters())\n",
        "\n",
        "    self.memory = ReplayMemory(BUFFER_SIZE, BATCH_SIZE, seed)\n",
        "    self.timestep =0\n",
        "\n",
        "  def step(self, state, action, reward, next_state, done):\n",
        "    self.memory.add_experience(state, action, reward, next_state, done)\n",
        "    self.timestep +=1\n",
        "    if self.timestep % UPDATE_EVERY == 0:\n",
        "      if len(self.memory) > BATCH_SIZE:\n",
        "        sampled_experience = self.memory.sample()\n",
        "        self.learn(sampled_experience)\n",
        "\n",
        "  def learn(self, experiences):\n",
        "    states, actions, rewards, next_states, dones = experiences \n",
        "    \n",
        "    Q_output = self.q_network(states).gather(1, actions)\n",
        "\n",
        "    action_values = self.target_network(next_states).detach()\n",
        "    max_action_values = action_values.max(1)[0].unsqueeze(1)\n",
        "    Q_target = rewards + GAMMA * max_action_values * (1 - dones)\n",
        "\n",
        "    loss = F.mse_loss(Q_output, Q_target)\n",
        "\n",
        "    self.optimizer.zero_grad()\n",
        "    loss.backward()\n",
        "    self.optimizer.step()\n",
        "\n",
        "    self.update_target_network(self.q_network, self.target_network)\n",
        "\n",
        "  def update_target_network(self, source_network, target_network):\n",
        "    for source_parameters, target_parameters in zip(source_network.parameters(), target_network.parameters()):\n",
        "      target_parameters.data.copy_(TAU * source_parameters.data + (1- TAU) * target_parameters.data)\n",
        "\n",
        "  def act(self, state, eps=0.0):\n",
        "    rnd = random.random()\n",
        "    if rnd < eps:\n",
        "      return np.random.randint(self.action_size)\n",
        "    else:\n",
        "      state = torch.from_numpy(state).float().unsqueeze(0).to(device)\n",
        "\n",
        "      self.q_network.eval()\n",
        "      with torch.no_grad():\n",
        "        action_values = self.q_network(state)\n",
        "\n",
        "      self.q_network.train()\n",
        "      action = np.argmax(action_values.cpu().data.numpy())\n",
        "      return action    \n",
        "        \n",
        "  def checkpoint(self, filename):\n",
        "    torch.save(self.q_network.state_dict(), filename)"
      ],
      "execution_count": 0,
      "outputs": []
    },
    {
      "cell_type": "code",
      "metadata": {
        "id": "-vLf_Vt8RgqX",
        "colab_type": "code",
        "outputId": "ba3fdcae-9dc9-4d8a-89a0-447afde5c916",
        "colab": {
          "base_uri": "https://localhost:8080/",
          "height": 34
        }
      },
      "source": [
        "state_size = env.observation_space.shape[0]\n",
        "action_size = env.action_space.n\n",
        "\n",
        "print('State size: {}, action size: {}'.format(state_size, action_size))"
      ],
      "execution_count": 0,
      "outputs": [
        {
          "output_type": "stream",
          "text": [
            "State size: 8, action size: 4\n"
          ],
          "name": "stdout"
        }
      ]
    },
    {
      "cell_type": "code",
      "metadata": {
        "id": "jmormizMRI2F",
        "colab_type": "code",
        "colab": {}
      },
      "source": [
        "def train(dqn_agent):\n",
        "  start = time()\n",
        "  scores = []\n",
        "\n",
        "  scores_window = deque(maxlen=100)\n",
        "  eps = EPS_START\n",
        "  for episode in range(1, MAX_EPISODES + 1):\n",
        "      state = env.reset()\n",
        "      score = 0\n",
        "      for t in range(MAX_STEPS):\n",
        "          action = dqn_agent.act(state, eps)\n",
        "          next_state, reward, done, info = env.step(action)\n",
        "          dqn_agent.step(state, action, reward, next_state, done)\n",
        "          state = next_state        \n",
        "          score += reward        \n",
        "          if done:\n",
        "              break\n",
        "              \n",
        "          eps = max(eps * EPS_DECAY, EPS_MIN)\n",
        "          if episode % PRINT_EVERY == 0:\n",
        "              mean_score = np.mean(scores_window)\n",
        "              print('\\r Progress {}/{}, average score:{:.2f}'.format(episode, MAX_EPISODES, mean_score), end=\"\")\n",
        "          if score >= ENV_SOLVED:\n",
        "              mean_score = np.mean(scores_window)\n",
        "              print('\\rEnvironment solved in {} episodes, average score: {:.2f}'.format(episode, mean_score), end=\"\")\n",
        "              sys.stdout.flush()\n",
        "              dqn_agent.checkpoint('solved_200.pth')\n",
        "              break\n",
        "              \n",
        "      scores_window.append(score)\n",
        "      scores.append(score)\n",
        "      \n",
        "  end = time()    \n",
        "  print('Took {} seconds'.format(end - start))\n",
        "\n",
        "  return scores"
      ],
      "execution_count": 0,
      "outputs": []
    },
    {
      "cell_type": "code",
      "metadata": {
        "id": "x2yLkdlpRlS-",
        "colab_type": "code",
        "colab": {}
      },
      "source": [
        "dqn_agent = DeepQAgent(state_size, FC1_SIZE, FC2_SIZE, action_size, seed=0)"
      ],
      "execution_count": 0,
      "outputs": []
    },
    {
      "cell_type": "code",
      "metadata": {
        "id": "m2H0sIhRvQtx",
        "colab_type": "code",
        "colab": {}
      },
      "source": [
        "ddqn_agent = DoubleDeepQAgent(state_size, FC1_SIZE, FC2_SIZE, action_size, seed=0)"
      ],
      "execution_count": 0,
      "outputs": []
    },
    {
      "cell_type": "code",
      "metadata": {
        "id": "wvdXxhNKnzpy",
        "colab_type": "code",
        "outputId": "8a0a6e45-48b9-4663-a85e-cf464aa85f2e",
        "colab": {
          "base_uri": "https://localhost:8080/",
          "height": 51
        }
      },
      "source": [
        "dqn_scores = train(dqn_agent)\n",
        "ddqn_scores = train(ddqn_agent)"
      ],
      "execution_count": 0,
      "outputs": [
        {
          "output_type": "stream",
          "text": [
            " Progress 2000/2000, average score:250.97Took 1386.8975994586945 seconds\n",
            " Progress 2000/2000, average score:240.81Took 1959.8139865398407 seconds\n"
          ],
          "name": "stdout"
        }
      ]
    },
    {
      "cell_type": "code",
      "metadata": {
        "id": "fgp7BEqvRLKN",
        "colab_type": "code",
        "colab": {}
      },
      "source": [
        "def plot(score, string):\n",
        "  plt.figure(figsize=(10,6))\n",
        "  plt.plot(score)\n",
        "  plt.plot(pd.Series(score).rolling(100).mean())\n",
        "  plt.title('%s Training,'%string)\n",
        "  plt.xlabel('# of episodes')\n",
        "  plt.ylabel('score')\n",
        "  plt.show()\n"
      ],
      "execution_count": 0,
      "outputs": []
    },
    {
      "cell_type": "code",
      "metadata": {
        "id": "Tkf4SI_3CbOM",
        "colab_type": "code",
        "outputId": "af182aed-d334-40bd-9203-0d9e26651158",
        "colab": {
          "base_uri": "https://localhost:8080/",
          "height": 789
        }
      },
      "source": [
        "plot(dqn_scores, 'DQN')\n",
        "plot(ddqn_scores, 'DDQN')"
      ],
      "execution_count": 0,
      "outputs": [
        {
          "output_type": "display_data",
          "data": {
            "image/png": "[encoded data removed]",
            "text/plain": [
              "<Figure size 720x432 with 1 Axes>"
            ]
          },
          "metadata": {
            "tags": []
          }
        },
        {
          "output_type": "display_data",
          "data": {
            "image/png": "[encoded data removed]",
            "text/plain": [
              "<Figure size 720x432 with 1 Axes>"
            ]
          },
          "metadata": {
            "tags": []
          }
        }
      ]
    },
    {
      "cell_type": "code",
      "metadata": {
        "id": "6UwS062Aem27",
        "colab_type": "code",
        "colab": {}
      },
      "source": [
        ""
      ],
      "execution_count": 0,
      "outputs": []
    }
  ]
}