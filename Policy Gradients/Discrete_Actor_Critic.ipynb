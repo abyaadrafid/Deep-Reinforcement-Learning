{
  "nbformat": 4,
  "nbformat_minor": 0,
  "metadata": {
    "colab": {
      "name": "Discrete_Actor_Critic.ipynb",
      "provenance": [],
      "collapsed_sections": [],
      "authorship_tag": "ABX9TyNUaFXFdnY534oERSAlI9Wn",
      "include_colab_link": true
    },
    "kernelspec": {
      "name": "python3",
      "display_name": "Python 3"
    }
  },
  "cells": [
    {
      "cell_type": "markdown",
      "metadata": {
        "id": "view-in-github",
        "colab_type": "text"
      },
      "source": [
        "<a href=\"https://colab.research.google.com/github/abyaadrafid/Deep-Reinforcement-Learning/blob/master/Policy%20Gradients/Discrete_Actor_Critic.ipynb\" target=\"_parent\"><img src=\"https://colab.research.google.com/assets/colab-badge.svg\" alt=\"Open In Colab\"/></a>"
      ]
    },
    {
      "cell_type": "markdown",
      "metadata": {
        "id": "JGM3t9U1Fs-T",
        "colab_type": "text"
      },
      "source": [
        "# Value Actor Critic for Discrete Action Space\n",
        "\n",
        "# <font color='red'>Please Run the Notebook on CPU.</font>\n",
        "There is something broken with the GPU setting in the code. I'll probably fix it sometime soon.\n",
        "\n"
      ]
    },
    {
      "cell_type": "code",
      "metadata": {
        "id": "bWNaZNqo45df",
        "colab_type": "code",
        "colab": {
          "base_uri": "https://localhost:8080/",
          "height": 578
        },
        "outputId": "8189bac0-e8a4-41a1-f10c-a0bb2bcb60e7"
      },
      "source": [
        "!apt install swig cmake libopenmpi-dev zlib1g-dev\n",
        "!pip install stable-baselines[mpi]==2.10.0 box2d box2d-kengz"
      ],
      "execution_count": 1,
      "outputs": [
        {
          "output_type": "stream",
          "text": [
            "Reading package lists... Done\n",
            "Building dependency tree       \n",
            "Reading state information... Done\n",
            "zlib1g-dev is already the newest version (1:1.2.11.dfsg-0ubuntu2).\n",
            "libopenmpi-dev is already the newest version (2.1.1-8).\n",
            "swig is already the newest version (3.0.12-1).\n",
            "cmake is already the newest version (3.10.2-1ubuntu2.18.04.1).\n",
            "The following package was automatically installed and is no longer required:\n",
            "  libnvidia-common-440\n",
            "Use 'apt autoremove' to remove it.\n",
            "0 upgraded, 0 newly installed, 0 to remove and 39 not upgraded.\n",
            "Requirement already satisfied: stable-baselines[mpi]==2.10.0 in /usr/local/lib/python3.6/dist-packages (2.10.0)\n",
            "Requirement already satisfied: box2d in /usr/local/lib/python3.6/dist-packages (2.3.10)\n",
            "Requirement already satisfied: box2d-kengz in /usr/local/lib/python3.6/dist-packages (2.3.3)\n",
            "Requirement already satisfied: cloudpickle>=0.5.5 in /usr/local/lib/python3.6/dist-packages (from stable-baselines[mpi]==2.10.0) (1.3.0)\n",
            "Requirement already satisfied: numpy in /usr/local/lib/python3.6/dist-packages (from stable-baselines[mpi]==2.10.0) (1.18.5)\n",
            "Requirement already satisfied: pandas in /usr/local/lib/python3.6/dist-packages (from stable-baselines[mpi]==2.10.0) (1.0.5)\n",
            "Requirement already satisfied: opencv-python in /usr/local/lib/python3.6/dist-packages (from stable-baselines[mpi]==2.10.0) (4.1.2.30)\n",
            "Requirement already satisfied: gym[atari,classic_control]>=0.11 in /usr/local/lib/python3.6/dist-packages (from stable-baselines[mpi]==2.10.0) (0.17.2)\n",
            "Requirement already satisfied: matplotlib in /usr/local/lib/python3.6/dist-packages (from stable-baselines[mpi]==2.10.0) (3.2.2)\n",
            "Requirement already satisfied: joblib in /usr/local/lib/python3.6/dist-packages (from stable-baselines[mpi]==2.10.0) (0.16.0)\n",
            "Requirement already satisfied: scipy in /usr/local/lib/python3.6/dist-packages (from stable-baselines[mpi]==2.10.0) (1.4.1)\n",
            "Requirement already satisfied: mpi4py; extra == \"mpi\" in /usr/local/lib/python3.6/dist-packages (from stable-baselines[mpi]==2.10.0) (3.0.3)\n",
            "Requirement already satisfied: pytz>=2017.2 in /usr/local/lib/python3.6/dist-packages (from pandas->stable-baselines[mpi]==2.10.0) (2018.9)\n",
            "Requirement already satisfied: python-dateutil>=2.6.1 in /usr/local/lib/python3.6/dist-packages (from pandas->stable-baselines[mpi]==2.10.0) (2.8.1)\n",
            "Requirement already satisfied: pyglet<=1.5.0,>=1.4.0 in /usr/local/lib/python3.6/dist-packages (from gym[atari,classic_control]>=0.11->stable-baselines[mpi]==2.10.0) (1.5.0)\n",
            "Requirement already satisfied: atari-py~=0.2.0; extra == \"atari\" in /usr/local/lib/python3.6/dist-packages (from gym[atari,classic_control]>=0.11->stable-baselines[mpi]==2.10.0) (0.2.6)\n",
            "Requirement already satisfied: Pillow; extra == \"atari\" in /usr/local/lib/python3.6/dist-packages (from gym[atari,classic_control]>=0.11->stable-baselines[mpi]==2.10.0) (7.0.0)\n",
            "Requirement already satisfied: kiwisolver>=1.0.1 in /usr/local/lib/python3.6/dist-packages (from matplotlib->stable-baselines[mpi]==2.10.0) (1.2.0)\n",
            "Requirement already satisfied: pyparsing!=2.0.4,!=2.1.2,!=2.1.6,>=2.0.1 in /usr/local/lib/python3.6/dist-packages (from matplotlib->stable-baselines[mpi]==2.10.0) (2.4.7)\n",
            "Requirement already satisfied: cycler>=0.10 in /usr/local/lib/python3.6/dist-packages (from matplotlib->stable-baselines[mpi]==2.10.0) (0.10.0)\n",
            "Requirement already satisfied: six>=1.5 in /usr/local/lib/python3.6/dist-packages (from python-dateutil>=2.6.1->pandas->stable-baselines[mpi]==2.10.0) (1.15.0)\n",
            "Requirement already satisfied: future in /usr/local/lib/python3.6/dist-packages (from pyglet<=1.5.0,>=1.4.0->gym[atari,classic_control]>=0.11->stable-baselines[mpi]==2.10.0) (0.16.0)\n"
          ],
          "name": "stdout"
        }
      ]
    },
    {
      "cell_type": "code",
      "metadata": {
        "id": "3fnZjcSpn7MK",
        "colab_type": "code",
        "colab": {}
      },
      "source": [
        "import torch\n",
        "import torch.nn as nn\n",
        "import torch.nn.functional as F\n",
        "import torch.optim as optim\n",
        "import sys\n",
        "import numpy as np\n",
        "import pandas as pd\n",
        "import gym\n",
        "import matplotlib.pyplot as plt\n",
        "from torch.distributions import Categorical\n",
        "%matplotlib inline\n",
        "\n",
        "plt.style.use('seaborn')"
      ],
      "execution_count": 2,
      "outputs": []
    },
    {
      "cell_type": "code",
      "metadata": {
        "id": "1Wv2R3m_n-zP",
        "colab_type": "code",
        "colab": {
          "base_uri": "https://localhost:8080/",
          "height": 51
        },
        "outputId": "db8ccf5e-0738-4def-88b2-dae0badc96af"
      },
      "source": [
        "env = gym.make('LunarLander-v2')\n",
        "env.seed(0)\n",
        "print(env.action_space)\n",
        "print(env.observation_space)"
      ],
      "execution_count": 3,
      "outputs": [
        {
          "output_type": "stream",
          "text": [
            "Discrete(4)\n",
            "Box(8,)\n"
          ],
          "name": "stdout"
        }
      ]
    },
    {
      "cell_type": "code",
      "metadata": {
        "id": "xDtA8o7ToBOn",
        "colab_type": "code",
        "colab": {}
      },
      "source": [
        "device = torch.device('cuda:0' if torch.cuda.is_available() else 'cpu')"
      ],
      "execution_count": 4,
      "outputs": []
    },
    {
      "cell_type": "code",
      "metadata": {
        "id": "ySe9--SvoCBv",
        "colab_type": "code",
        "colab": {}
      },
      "source": [
        "class ActorCritic(nn.Module):\n",
        "  def __init__(self, state_size, action_size, fc1_size = 128, fc2_size = 256):\n",
        "    super(ActorCritic, self).__init__()\n",
        "\n",
        "    self.stem = nn.Sequential(\n",
        "        nn.Linear(state_size, fc1_size),\n",
        "        nn.ReLU(),\n",
        "        nn.Linear(fc1_size, fc2_size),\n",
        "        nn.ReLU()\n",
        "    )\n",
        "\n",
        "    self.actor = nn.Sequential(\n",
        "        self.stem,\n",
        "        nn.Linear(fc2_size, action_size),\n",
        "        nn.Softmax()\n",
        "    )\n",
        "    \n",
        "    self.critic = nn.Sequential(\n",
        "        self.stem,\n",
        "        nn.Linear(fc2_size, 1),\n",
        "    )\n",
        "\n",
        "  def forward(self, x):\n",
        "    value = self.critic(x)\n",
        "    probabilities = self.actor(x)\n",
        "    dist = Categorical(probabilities)\n",
        "\n",
        "    return dist, value"
      ],
      "execution_count": 5,
      "outputs": []
    },
    {
      "cell_type": "code",
      "metadata": {
        "id": "v5l2o9bwoZcv",
        "colab_type": "code",
        "colab": {}
      },
      "source": [
        "class DiscreteACAgent():\n",
        "  def __init__(self, lr, state_size, action_size, fc1_size = 128, fc2_size = 256, gamma= 0.99):\n",
        "    self.gamma = gamma\n",
        "    self.actor_critic = ActorCritic(state_size, action_size, fc1_size, fc2_size).to(device)\n",
        "    self.optimizer = optim.Adam(self.actor_critic.parameters(), lr)\n",
        "    self.log_probs = None\n",
        "\n",
        "  def choose_action(self, state):\n",
        "    action_probs, _ = self.actor_critic.forward(state)\n",
        "    action = action_probs.sample()\n",
        "    self.log_probs = action_probs.log_prob(action)\n",
        "    \n",
        "    return action.item()\n",
        "\n",
        "  def learn(self, state, reward, next_state, done):\n",
        "    self.optimizer.zero_grad()\n",
        "\n",
        "    _, value = self.actor_critic.forward(state)\n",
        "    _, next_value = self.actor_critic.forward(next_state)\n",
        "\n",
        "    delta = reward + self.gamma*next_value*(1-int(done)) - value\n",
        "\n",
        "    actor_loss = -self.log_probs*delta\n",
        "    critic_loss = delta**2\n",
        "\n",
        "    loss = actor_loss+critic_loss\n",
        "    loss.backward()\n",
        "\n",
        "    self.optimizer.step()"
      ],
      "execution_count": 16,
      "outputs": []
    },
    {
      "cell_type": "code",
      "metadata": {
        "id": "HYDVnUqPH6JV",
        "colab_type": "code",
        "colab": {
          "base_uri": "https://localhost:8080/",
          "height": 34
        },
        "outputId": "56c26d5c-9e3b-4759-b152-c75645f00f00"
      },
      "source": [
        "state_size = env.observation_space.shape[0]\n",
        "action_size = env.action_space.n\n",
        "\n",
        "print('State size: {}, action size: {}'.format(state_size, action_size))"
      ],
      "execution_count": 17,
      "outputs": [
        {
          "output_type": "stream",
          "text": [
            "State size: 8, action size: 4\n"
          ],
          "name": "stdout"
        }
      ]
    },
    {
      "cell_type": "code",
      "metadata": {
        "id": "68zoBMD_qxTk",
        "colab_type": "code",
        "colab": {}
      },
      "source": [
        "agent = DiscreteACAgent(1e-5, state_size=state_size, action_size=action_size)\n",
        "n_episodes = 3000\n",
        "gamma = 0.99\n",
        "PRINT_EVERY = 50\n",
        "ENV_SOLVED = 200"
      ],
      "execution_count": 18,
      "outputs": []
    },
    {
      "cell_type": "code",
      "metadata": {
        "id": "Gdjt5JOtH6kR",
        "colab_type": "code",
        "colab": {}
      },
      "source": [
        "def train(agent):\n",
        "  score_history = []\n",
        "  print_score = []\n",
        "  for i in range(n_episodes):\n",
        "    done = False\n",
        "    state = env.reset()\n",
        "    score = 0\n",
        "    while not done:\n",
        "      state = torch.Tensor(state).to(device)\n",
        "      action = agent.choose_action(state)\n",
        "      next_state, reward, done, info = env.step(action)\n",
        "      next_state = torch.Tensor(next_state).to(device)\n",
        "      agent.learn(state, reward, next_state, done)\n",
        "      state = next_state\n",
        "      score += reward\n",
        "    score_history.append(score)\n",
        "    print_score.append(score)\n",
        "    if i % PRINT_EVERY == 0 :\n",
        "      print('\\r Progress {}/{}, average score:{:.2f}'.format(i, n_episodes, np.mean(print_score)), end=\"\")\n",
        "      print_score = []\n",
        "    if score == ENV_SOLVED :\n",
        "      print('The Environment is solved')\n",
        "  return score_history"
      ],
      "execution_count": 22,
      "outputs": []
    },
    {
      "cell_type": "code",
      "metadata": {
        "id": "oL3S9dR5D3KE",
        "colab_type": "code",
        "colab": {}
      },
      "source": [
        "def plot(score, string):\n",
        "  plt.figure(figsize=(10,6))\n",
        "  plt.plot(score)\n",
        "  plt.plot(pd.Series(score).rolling(100).mean())\n",
        "  plt.title('%s Training,'%string)\n",
        "  plt.xlabel('# of episodes')\n",
        "  plt.ylabel('score')\n",
        "  plt.show()"
      ],
      "execution_count": 23,
      "outputs": []
    },
    {
      "cell_type": "code",
      "metadata": {
        "id": "Yhl71qt7_1h3",
        "colab_type": "code",
        "colab": {
          "base_uri": "https://localhost:8080/",
          "height": 454
        },
        "outputId": "8e2f7c38-6add-4381-fd36-9689f91f4ea3"
      },
      "source": [
        "score = train(agent)\n",
        "plot(score, 'DAC')"
      ],
      "execution_count": 24,
      "outputs": [
        {
          "output_type": "stream",
          "text": [
            "/usr/local/lib/python3.6/dist-packages/torch/nn/modules/container.py:117: UserWarning: Implicit dimension choice for softmax has been deprecated. Change the call to include dim=X as an argument.\n",
            "  input = module(input)\n"
          ],
          "name": "stderr"
        },
        {
          "output_type": "stream",
          "text": [
            " Progress 2950/3000, average score:-107.53"
          ],
          "name": "stdout"
        },
        {
          "output_type": "display_data",
          "data": {
            "image/png": "[encoded data removed]",
            "text/plain": [
              "<Figure size 720x432 with 1 Axes>"
            ]
          },
          "metadata": {
            "tags": []
          }
        }
      ]
    },
    {
      "cell_type": "markdown",
      "metadata": {
        "id": "UDHEarx0eIZ7",
        "colab_type": "text"
      },
      "source": [
        "##### As we can see, the agent isn't actually that great. But slowly and surely it shows increase in performance on average. The Value actor critic can be quite unstable while training, as seen from the huge fluctuations of reward between episodes. It takes more episodes than all other methods we've covered so far, but it solves the environment by reaching 200 reward. "
      ]
    }
  ]
}