{
  "nbformat": 4,
  "nbformat_minor": 0,
  "metadata": {
    "colab": {
      "name": "Soft Actor Critic.ipynb",
      "provenance": [],
      "collapsed_sections": [],
      "authorship_tag": "ABX9TyM3PNYi0yyt6fIRGg4+/PWH",
      "include_colab_link": true
    },
    "kernelspec": {
      "name": "python3",
      "display_name": "Python 3"
    }
  },
  "cells": [
    {
      "cell_type": "markdown",
      "metadata": {
        "id": "view-in-github",
        "colab_type": "text"
      },
      "source": [
        "<a href=\"https://colab.research.google.com/github/abyaadrafid/Deep-Reinforcement-Learning/blob/master/Soft_Actor_Critic.ipynb\" target=\"_parent\"><img src=\"https://colab.research.google.com/assets/colab-badge.svg\" alt=\"Open In Colab\"/></a>"
      ]
    },
    {
      "cell_type": "code",
      "metadata": {
        "id": "G4nTBoFoxU8q",
        "colab_type": "code",
        "colab": {}
      },
      "source": [
        "import math\n",
        "import random\n",
        "import gym\n",
        "import numpy as np\n",
        "\n",
        "import torch\n",
        "import torch.nn as nn\n",
        "import torch.optim as optim\n",
        "import torch.nn.functional as F\n",
        "from torch.distributions import Normal"
      ],
      "execution_count": 1,
      "outputs": []
    },
    {
      "cell_type": "code",
      "metadata": {
        "id": "9gMqzbW8xeQS",
        "colab_type": "code",
        "colab": {}
      },
      "source": [
        "from IPython.display import clear_output\n",
        "import matplotlib.pyplot as plt\n",
        "%matplotlib inline"
      ],
      "execution_count": 2,
      "outputs": []
    },
    {
      "cell_type": "code",
      "metadata": {
        "id": "XsjStZX0yCHs",
        "colab_type": "code",
        "colab": {}
      },
      "source": [
        "device = torch.device('cuda:0' if torch.cuda.is_available() else 'cpu:0')"
      ],
      "execution_count": 3,
      "outputs": []
    },
    {
      "cell_type": "code",
      "metadata": {
        "id": "8xZ2dVPfyPIa",
        "colab_type": "code",
        "colab": {}
      },
      "source": [
        "class ReplayBuffer:\n",
        "  def __init__(self, buffer_size):\n",
        "    self.buffer_size = buffer_size\n",
        "    self.buffer = []\n",
        "    self.position = 0\n",
        "\n",
        "  def add(self, state, action, reward, next_state, done):\n",
        "    if len(self.buffer) < self.buffer_size :\n",
        "      self.buffer.append(None)\n",
        "    self.buffer[self.position] = (state, action, reward, next_state, done)\n",
        "    self.position = (self.position + 1) % self.buffer_size\n",
        "\n",
        "  def sample(self, batch_size):\n",
        "    batch = random.sample(self.buffer, batch_size)\n",
        "    state, action, reward, next_state, done = map(np.stack, zip(*batch))\n",
        "    return state, action, reward, next_state, done\n",
        "\n",
        "  def __len__(self):\n",
        "    return len(self.buffer)"
      ],
      "execution_count": 4,
      "outputs": []
    },
    {
      "cell_type": "code",
      "metadata": {
        "id": "gh1EwY7I3YoT",
        "colab_type": "code",
        "colab": {}
      },
      "source": [
        "class NormalizedActions(gym.ActionWrapper):\n",
        "  def action(self, action):\n",
        "    low = self.action_space.low\n",
        "    high = self.action_space.high\n",
        "\n",
        "    action = low + (action + 1.0) * 0.5 * (high-low)\n",
        "    action = np.clip(action, low, high)\n",
        "    \n",
        "    return action\n",
        "  \n",
        "  def reverse_action(self, action):\n",
        "    low = self.action_space.low\n",
        "    high = self.action.space.high\n",
        "\n",
        "    action = 2 * (action - low) / (high - low) -1\n",
        "    action = np.clip(action, low, high)\n",
        "\n",
        "    return action"
      ],
      "execution_count": 5,
      "outputs": []
    },
    {
      "cell_type": "code",
      "metadata": {
        "id": "o_aIhRWT4vUO",
        "colab_type": "code",
        "colab": {}
      },
      "source": [
        "def plot(frame_idx, rewards):\n",
        "  clear_output(True)\n",
        "  plt.figure(figsize=(20,5))\n",
        "  plt.subplot(131)\n",
        "  plt.title('frame %s. reward: %s' % (frame_idx, rewards[-1]))\n",
        "  plt.plot(rewards)\n",
        "  plt.show()"
      ],
      "execution_count": 6,
      "outputs": []
    },
    {
      "cell_type": "code",
      "metadata": {
        "id": "_dcwxTC343I9",
        "colab_type": "code",
        "colab": {}
      },
      "source": [
        "class ValueNetwork(nn.Module):\n",
        "  def __init__(self, state_dim, l1_dim = 128, l2_dim = 256, init_w=3e-3):\n",
        "    super(ValueNetwork, self).__init__()\n",
        "        \n",
        "    self.fc1 = nn.Linear(state_dim, l1_dim)\n",
        "    self.fc2 = nn.Linear(l1_dim, l2_dim)\n",
        "    self.fc3 = nn.Linear(l2_dim, 1)\n",
        "        \n",
        "    self.fc3.weight.data.uniform_(-init_w, init_w)\n",
        "    self.fc3.bias.data.uniform_(-init_w, init_w)\n",
        "        \n",
        "  def forward(self, state):\n",
        "    x = F.relu(self.fc1(state))\n",
        "    x = F.relu(self.fc2(x))\n",
        "    x = self.fc3(x)\n",
        "\n",
        "    return x"
      ],
      "execution_count": 7,
      "outputs": []
    },
    {
      "cell_type": "code",
      "metadata": {
        "id": "czDyVdMw6vNC",
        "colab_type": "code",
        "colab": {}
      },
      "source": [
        "class SoftQNetwork(nn.Module):\n",
        "  def __init__(self, num_inputs, num_actions, l1_dim = 128, l2_dim = 256, init_w=3e-3):\n",
        "    super(SoftQNetwork, self).__init__()\n",
        "        \n",
        "    self.fc1 = nn.Linear(num_inputs + num_actions, l1_dim)\n",
        "    self.fc2 = nn.Linear(l1_dim, l2_dim)\n",
        "    self.fc3 = nn.Linear(l2_dim, 1)\n",
        "        \n",
        "    self.fc3.weight.data.uniform_(-init_w, init_w)\n",
        "    self.fc3.bias.data.uniform_(-init_w, init_w)\n",
        "        \n",
        "  def forward(self, state, action):\n",
        "    x = torch.cat([state, action], 1)\n",
        "    x = F.relu(self.fc1(x))\n",
        "    x = F.relu(self.fc2(x))\n",
        "    x = self.fc3(x)\n",
        "    \n",
        "    return x"
      ],
      "execution_count": 8,
      "outputs": []
    },
    {
      "cell_type": "code",
      "metadata": {
        "id": "ZgjKPmfbAQCu",
        "colab_type": "code",
        "colab": {}
      },
      "source": [
        "class PolicyNetwork(nn.Module):\n",
        "  def __init__(self, num_inputs, num_actions, l1_dim = 128, l2_dim = 256, init_w=3e-3, log_std_min=-20, log_std_max=2):\n",
        "    super(PolicyNetwork, self).__init__()\n",
        "        \n",
        "    self.log_std_min = log_std_min\n",
        "    self.log_std_max = log_std_max\n",
        "        \n",
        "    self.fc1 = nn.Linear(num_inputs, l1_dim)\n",
        "    self.fc2 = nn.Linear(l1_dim, l2_dim)\n",
        "        \n",
        "    self.meanfc = nn.Linear(l2_dim, num_actions)\n",
        "    self.meanfc.weight.data.uniform_(-init_w, init_w)\n",
        "    self.meanfc.bias.data.uniform_(-init_w, init_w)\n",
        "        \n",
        "    self.log_stdfc = nn.Linear(l2_dim, num_actions)\n",
        "    self.log_stdfc.weight.data.uniform_(-init_w, init_w)\n",
        "    self.log_stdfc.bias.data.uniform_(-init_w, init_w)\n",
        "        \n",
        "  def forward(self, state):\n",
        "    x = F.relu(self.fc1(state))\n",
        "    x = F.relu(self.fc2(x))\n",
        "        \n",
        "    mean = self.meanfc(x)\n",
        "    log_std = self.log_stdfc(x)\n",
        "    log_std = torch.clamp(log_std, self.log_std_min, self.log_std_max)\n",
        "        \n",
        "    return mean, log_std\n",
        "    \n",
        "  def evaluate(self, state, epsilon=1e-6):\n",
        "    mean, log_std = self.forward(state)\n",
        "    std = log_std.exp()\n",
        "        \n",
        "    normal = Normal(mean, std)\n",
        "    z = normal.sample()\n",
        "    action = torch.tanh(z)\n",
        "        \n",
        "    log_prob = normal.log_prob(z) - torch.log(1 - action.pow(2) + epsilon)\n",
        "    log_prob = log_prob.sum(-1, keepdim=True)\n",
        "        \n",
        "    return action, log_prob, z, mean, log_std\n",
        "        \n",
        "    \n",
        "  def get_action(self, state):\n",
        "    state = torch.FloatTensor(state).unsqueeze(0).to(device)\n",
        "    mean, log_std = self.forward(state)\n",
        "    std = log_std.exp()\n",
        "        \n",
        "    normal = Normal(mean, std)\n",
        "    z = normal.sample()\n",
        "    action = torch.tanh(z)\n",
        "    action  = action.detach().cpu().numpy()\n",
        "    \n",
        "    return action[0]"
      ],
      "execution_count": 9,
      "outputs": []
    },
    {
      "cell_type": "code",
      "metadata": {
        "id": "wUV1GQX7GmEO",
        "colab_type": "code",
        "colab": {}
      },
      "source": [
        "def soft_q_update(batch_size, gamma=0.99, mean_lambda=1e-3, std_lambda=1e-3, z_lambda=0.0, soft_tau=1e-2,):\n",
        "  state, action, reward, next_state, done = replay_buffer.sample(batch_size)\n",
        "\n",
        "  state = torch.FloatTensor(state).to(device)\n",
        "  next_state = torch.FloatTensor(next_state).to(device)\n",
        "  action = torch.FloatTensor(action).to(device)\n",
        "  reward = torch.FloatTensor(reward).unsqueeze(1).to(device)\n",
        "  done = torch.FloatTensor(np.float32(done)).unsqueeze(1).to(device)\n",
        "\n",
        "  expected_q_value = soft_q_net(state, action)\n",
        "  expected_value   = value_net(state)\n",
        "  new_action, log_prob, z, mean, log_std = policy_net.evaluate(state)\n",
        "\n",
        "  target_value = target_value_net(next_state)\n",
        "  next_q_value = reward + (1 - done) * gamma * target_value\n",
        "  q_value_loss = soft_q_criterion(expected_q_value, next_q_value.detach())\n",
        "\n",
        "  expected_new_q_value = soft_q_net(state, new_action)\n",
        "  next_value = expected_new_q_value - log_prob\n",
        "  value_loss = value_criterion(expected_value, next_value.detach())\n",
        "\n",
        "  log_prob_target = expected_new_q_value - expected_value\n",
        "  policy_loss = (log_prob * (log_prob - log_prob_target).detach()).mean()\n",
        "    \n",
        "\n",
        "  mean_loss = mean_lambda * mean.pow(2).mean()\n",
        "  std_loss = std_lambda * log_std.pow(2).mean()\n",
        "  z_loss = z_lambda * z.pow(2).sum(1).mean()\n",
        "\n",
        "  policy_loss += mean_loss + std_loss + z_loss\n",
        "\n",
        "  soft_q_optimizer.zero_grad()\n",
        "  q_value_loss.backward()\n",
        "  soft_q_optimizer.step()\n",
        "\n",
        "  value_optimizer.zero_grad()\n",
        "  value_loss.backward()\n",
        "  value_optimizer.step()\n",
        "\n",
        "  policy_optimizer.zero_grad()\n",
        "  policy_loss.backward()\n",
        "  policy_optimizer.step()\n",
        "\n",
        "  for target_param, param in zip(target_value_net.parameters(), value_net.parameters()):\n",
        "    target_param.data.copy_(target_param.data * (1.0 - soft_tau) + param.data * soft_tau)"
      ],
      "execution_count": 10,
      "outputs": []
    },
    {
      "cell_type": "code",
      "metadata": {
        "id": "CazrkR33hMa8",
        "colab_type": "code",
        "colab": {}
      },
      "source": [
        "env = NormalizedActions(gym.make(\"Pendulum-v0\"))\n",
        "\n",
        "action_dim = env.action_space.shape[0]\n",
        "state_dim  = env.observation_space.shape[0]\n",
        "l1_dim = 512\n",
        "l2_dim = 512\n",
        "\n",
        "value_net = ValueNetwork(state_dim, l1_dim = l1_dim, l2_dim = l2_dim).to(device)\n",
        "target_value_net = ValueNetwork(state_dim, l1_dim = l1_dim, l2_dim = l2_dim).to(device)\n",
        "\n",
        "soft_q_net = SoftQNetwork(state_dim, action_dim, l1_dim = l1_dim, l2_dim = l2_dim).to(device)\n",
        "policy_net = PolicyNetwork(state_dim, action_dim, l1_dim = l1_dim, l2_dim = l2_dim).to(device)\n",
        "\n",
        "for target_param, param in zip(target_value_net.parameters(), value_net.parameters()):\n",
        "    target_param.data.copy_(param.data)\n",
        "    \n",
        "\n",
        "value_criterion  = nn.MSELoss()\n",
        "soft_q_criterion = nn.MSELoss()\n",
        "\n",
        "value_lr  = 3e-4\n",
        "soft_q_lr = 3e-4\n",
        "policy_lr = 3e-4\n",
        "\n",
        "value_optimizer  = optim.Adam(value_net.parameters(), lr=value_lr)\n",
        "soft_q_optimizer = optim.Adam(soft_q_net.parameters(), lr=soft_q_lr)\n",
        "policy_optimizer = optim.Adam(policy_net.parameters(), lr=policy_lr)\n",
        "\n",
        "\n",
        "replay_buffer_size = 1000000\n",
        "replay_buffer = ReplayBuffer(replay_buffer_size)"
      ],
      "execution_count": 11,
      "outputs": []
    },
    {
      "cell_type": "code",
      "metadata": {
        "id": "A3ZrzoUyh-Em",
        "colab_type": "code",
        "colab": {}
      },
      "source": [
        "max_frames  = 40000\n",
        "max_steps   = 500\n",
        "frame_idx   = 0\n",
        "rewards     = []\n",
        "batch_size  = 128"
      ],
      "execution_count": 12,
      "outputs": []
    },
    {
      "cell_type": "code",
      "metadata": {
        "id": "_87ZAvn1RX9U",
        "colab_type": "code",
        "colab": {
          "base_uri": "https://localhost:8080/",
          "height": 336
        },
        "outputId": "7edeee03-eb2a-4e57-c3dd-081537e6c947"
      },
      "source": [
        "while frame_idx < max_frames:\n",
        "  state = env.reset()\n",
        "  episode_reward = 0\n",
        "    \n",
        "  for step in range(max_steps):\n",
        "    action = policy_net.get_action(state)\n",
        "    next_state, reward, done, _ = env.step(action)\n",
        "        \n",
        "    replay_buffer.add(state, action, reward, next_state, done)\n",
        "    if len(replay_buffer) > batch_size:\n",
        "      soft_q_update(batch_size)\n",
        "        \n",
        "    state = next_state\n",
        "    episode_reward += reward\n",
        "    frame_idx += 1\n",
        "        \n",
        "    if frame_idx % 1000 == 0:\n",
        "      plot(frame_idx, rewards)\n",
        "        \n",
        "    if done:\n",
        "      break\n",
        "        \n",
        "  rewards.append(episode_reward)"
      ],
      "execution_count": 13,
      "outputs": [
        {
          "output_type": "display_data",
          "data": {
            "image/png": "[encoded data removed]",
            "text/plain": [
              "<Figure size 1440x360 with 1 Axes>"
            ]
          },
          "metadata": {
            "tags": [],
            "needs_background": "light"
          }
        }
      ]
    },
    {
      "cell_type": "code",
      "metadata": {
        "id": "eEz_6S9zRbK7",
        "colab_type": "code",
        "colab": {}
      },
      "source": [
        ""
      ],
      "execution_count": 13,
      "outputs": []
    }
  ]
}