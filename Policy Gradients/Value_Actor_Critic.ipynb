{
  "nbformat": 4,
  "nbformat_minor": 0,
  "metadata": {
    "colab": {
      "name": "Value_Actor_Critic.ipynb",
      "provenance": [],
      "collapsed_sections": [],
      "authorship_tag": "ABX9TyOTyFvJXzbh+Q3dXO4cDKd0",
      "include_colab_link": true
    },
    "kernelspec": {
      "name": "python3",
      "display_name": "Python 3"
    }
  },
  "cells": [
    {
      "cell_type": "markdown",
      "metadata": {
        "id": "view-in-github",
        "colab_type": "text"
      },
      "source": [
        "<a href=\"https://colab.research.google.com/github/abyaadrafid/Deep-Reinforcement-Learning/blob/master/Policy%20Gradients/Value_Actor_Critic.ipynb\" target=\"_parent\"><img src=\"https://colab.research.google.com/assets/colab-badge.svg\" alt=\"Open In Colab\"/></a>"
      ]
    },
    {
      "cell_type": "markdown",
      "metadata": {
        "id": "JGM3t9U1Fs-T",
        "colab_type": "text"
      },
      "source": [
        "# Value Actor Critic\n",
        "\n",
        "Value actor critics are known as the basic version of the actor critic methods. It tries to learn both the value and the policy and incorporates the best of both worlds. It approximates the state value for the agent and updates the policy with the value. And in turn, uses the updated policy to better approximate the state values. \n",
        "\n",
        "In the policy gradient notebook, we have used the discounted returns from actions along with the log probability of the policy to learn our target policy. As it happens, using baselines for expected discounted returns yield better results as the policy updates become smaller; reducing chance of the policy degrading arbitrarily. This is the basis of the Actor Critic algorithms. \n",
        "\n",
        "## Models\n",
        "There are two models in actor critic methods, which optionally share parameters:\n",
        "\n",
        "  1. The critic : Updates value function parameters. The value function can be action value or state value depending on the implementation specification. In this case we are going to use the state value function.\n",
        "\n",
        "  2. The actor : Updates policy parameters as suggested by the critic.\n",
        "\n",
        "## Formation\n",
        "If we consider V(s) as our value function and G our discounted returns, instead of using G directly in policy gradient, we can use this :\n",
        "\n",
        "`delta = G - V(s)`\n",
        "\n",
        "We use this `delta` quantity to apply gradient ascent on our actor policy, and minimize the squared `delta` for our value function.\n",
        "We can also use HuberLoss on G and V(s) and minimize it for our critic. "
      ]
    },
    {
      "cell_type": "code",
      "metadata": {
        "id": "bWNaZNqo45df",
        "colab_type": "code",
        "colab": {
          "base_uri": "https://localhost:8080/",
          "height": 1000
        },
        "outputId": "2cf993f1-7596-4bd8-add8-8c0007243cd8"
      },
      "source": [
        "!apt install swig cmake libopenmpi-dev zlib1g-dev\n",
        "!pip install stable-baselines[mpi]==2.10.0 box2d box2d-kengz"
      ],
      "execution_count": null,
      "outputs": [
        {
          "output_type": "stream",
          "text": [
            "Reading package lists... Done\n",
            "Building dependency tree       \n",
            "Reading state information... Done\n",
            "zlib1g-dev is already the newest version (1:1.2.11.dfsg-0ubuntu2).\n",
            "zlib1g-dev set to manually installed.\n",
            "libopenmpi-dev is already the newest version (2.1.1-8).\n",
            "cmake is already the newest version (3.10.2-1ubuntu2.18.04.1).\n",
            "The following package was automatically installed and is no longer required:\n",
            "  libnvidia-common-440\n",
            "Use 'apt autoremove' to remove it.\n",
            "The following additional packages will be installed:\n",
            "  swig3.0\n",
            "Suggested packages:\n",
            "  swig-doc swig-examples swig3.0-examples swig3.0-doc\n",
            "The following NEW packages will be installed:\n",
            "  swig swig3.0\n",
            "0 upgraded, 2 newly installed, 0 to remove and 39 not upgraded.\n",
            "Need to get 1,100 kB of archives.\n",
            "After this operation, 5,822 kB of additional disk space will be used.\n",
            "Get:1 http://archive.ubuntu.com/ubuntu bionic/universe amd64 swig3.0 amd64 3.0.12-1 [1,094 kB]\n",
            "Get:2 http://archive.ubuntu.com/ubuntu bionic/universe amd64 swig amd64 3.0.12-1 [6,460 B]\n",
            "Fetched 1,100 kB in 1s (818 kB/s)\n",
            "Selecting previously unselected package swig3.0.\n",
            "(Reading database ... 144579 files and directories currently installed.)\n",
            "Preparing to unpack .../swig3.0_3.0.12-1_amd64.deb ...\n",
            "Unpacking swig3.0 (3.0.12-1) ...\n",
            "Selecting previously unselected package swig.\n",
            "Preparing to unpack .../swig_3.0.12-1_amd64.deb ...\n",
            "Unpacking swig (3.0.12-1) ...\n",
            "Setting up swig3.0 (3.0.12-1) ...\n",
            "Setting up swig (3.0.12-1) ...\n",
            "Processing triggers for man-db (2.8.3-2ubuntu0.1) ...\n",
            "Collecting stable-baselines[mpi]==2.10.0\n",
            "\u001b[?25l  Downloading https://files.pythonhosted.org/packages/e5/fe/db8159d4d79109c6c8942abe77c7ba6b6e008c32ae55870a35e73fa10db3/stable_baselines-2.10.0-py3-none-any.whl (248kB)\n",
            "\u001b[K     |████████████████████████████████| 256kB 5.3MB/s \n",
            "\u001b[?25hCollecting box2d\n",
            "\u001b[?25l  Downloading https://files.pythonhosted.org/packages/a9/0b/d48d42dd9e19ce83a3fb4eee074e785b6c6ea612a2244dc2ef69427d338b/Box2D-2.3.10-cp36-cp36m-manylinux1_x86_64.whl (1.3MB)\n",
            "\u001b[K     |████████████████████████████████| 1.3MB 19.7MB/s \n",
            "\u001b[?25hCollecting box2d-kengz\n",
            "\u001b[?25l  Downloading https://files.pythonhosted.org/packages/81/20/51d6c0c87f7642efb709c518fb0ca8e5eab068259588552c41da5926ae27/Box2D-kengz-2.3.3.tar.gz (425kB)\n",
            "\u001b[K     |████████████████████████████████| 430kB 36.8MB/s \n",
            "\u001b[?25hRequirement already satisfied: pandas in /usr/local/lib/python3.6/dist-packages (from stable-baselines[mpi]==2.10.0) (1.0.5)\n",
            "Requirement already satisfied: joblib in /usr/local/lib/python3.6/dist-packages (from stable-baselines[mpi]==2.10.0) (0.16.0)\n",
            "Requirement already satisfied: cloudpickle>=0.5.5 in /usr/local/lib/python3.6/dist-packages (from stable-baselines[mpi]==2.10.0) (1.3.0)\n",
            "Requirement already satisfied: numpy in /usr/local/lib/python3.6/dist-packages (from stable-baselines[mpi]==2.10.0) (1.18.5)\n",
            "Requirement already satisfied: gym[atari,classic_control]>=0.11 in /usr/local/lib/python3.6/dist-packages (from stable-baselines[mpi]==2.10.0) (0.17.2)\n",
            "Requirement already satisfied: opencv-python in /usr/local/lib/python3.6/dist-packages (from stable-baselines[mpi]==2.10.0) (4.1.2.30)\n",
            "Requirement already satisfied: scipy in /usr/local/lib/python3.6/dist-packages (from stable-baselines[mpi]==2.10.0) (1.4.1)\n",
            "Requirement already satisfied: matplotlib in /usr/local/lib/python3.6/dist-packages (from stable-baselines[mpi]==2.10.0) (3.2.2)\n",
            "Collecting mpi4py; extra == \"mpi\"\n",
            "\u001b[?25l  Downloading https://files.pythonhosted.org/packages/ec/8f/bbd8de5ba566dd77e408d8136e2bab7fdf2b97ce06cab830ba8b50a2f588/mpi4py-3.0.3.tar.gz (1.4MB)\n",
            "\u001b[K     |████████████████████████████████| 1.4MB 39.9MB/s \n",
            "\u001b[?25hRequirement already satisfied: pytz>=2017.2 in /usr/local/lib/python3.6/dist-packages (from pandas->stable-baselines[mpi]==2.10.0) (2018.9)\n",
            "Requirement already satisfied: python-dateutil>=2.6.1 in /usr/local/lib/python3.6/dist-packages (from pandas->stable-baselines[mpi]==2.10.0) (2.8.1)\n",
            "Requirement already satisfied: pyglet<=1.5.0,>=1.4.0 in /usr/local/lib/python3.6/dist-packages (from gym[atari,classic_control]>=0.11->stable-baselines[mpi]==2.10.0) (1.5.0)\n",
            "Requirement already satisfied: atari-py~=0.2.0; extra == \"atari\" in /usr/local/lib/python3.6/dist-packages (from gym[atari,classic_control]>=0.11->stable-baselines[mpi]==2.10.0) (0.2.6)\n",
            "Requirement already satisfied: Pillow; extra == \"atari\" in /usr/local/lib/python3.6/dist-packages (from gym[atari,classic_control]>=0.11->stable-baselines[mpi]==2.10.0) (7.0.0)\n",
            "Requirement already satisfied: cycler>=0.10 in /usr/local/lib/python3.6/dist-packages (from matplotlib->stable-baselines[mpi]==2.10.0) (0.10.0)\n",
            "Requirement already satisfied: pyparsing!=2.0.4,!=2.1.2,!=2.1.6,>=2.0.1 in /usr/local/lib/python3.6/dist-packages (from matplotlib->stable-baselines[mpi]==2.10.0) (2.4.7)\n",
            "Requirement already satisfied: kiwisolver>=1.0.1 in /usr/local/lib/python3.6/dist-packages (from matplotlib->stable-baselines[mpi]==2.10.0) (1.2.0)\n",
            "Requirement already satisfied: six>=1.5 in /usr/local/lib/python3.6/dist-packages (from python-dateutil>=2.6.1->pandas->stable-baselines[mpi]==2.10.0) (1.15.0)\n",
            "Requirement already satisfied: future in /usr/local/lib/python3.6/dist-packages (from pyglet<=1.5.0,>=1.4.0->gym[atari,classic_control]>=0.11->stable-baselines[mpi]==2.10.0) (0.16.0)\n",
            "Building wheels for collected packages: box2d-kengz, mpi4py\n",
            "  Building wheel for box2d-kengz (setup.py) ... \u001b[?25l\u001b[?25hdone\n",
            "  Created wheel for box2d-kengz: filename=Box2D_kengz-2.3.3-cp36-cp36m-linux_x86_64.whl size=2008284 sha256=ede296fac34918518082b2bafd8f74954f114db4c4e3c73e50fc02031fa89d62\n",
            "  Stored in directory: /root/.cache/pip/wheels/75/ae/e5/8bc678d262caad94659c199c540550e59d03dd3bd3684d4f1a\n",
            "  Building wheel for mpi4py (setup.py) ... \u001b[?25l\u001b[?25hdone\n",
            "  Created wheel for mpi4py: filename=mpi4py-3.0.3-cp36-cp36m-linux_x86_64.whl size=2074426 sha256=d5140806134347f473a0db696e34dda54362c8d79f7e2bb2bd0643c2f3d1c016\n",
            "  Stored in directory: /root/.cache/pip/wheels/18/e0/86/2b713dd512199096012ceca61429e12b960888de59818871d6\n",
            "Successfully built box2d-kengz mpi4py\n",
            "Installing collected packages: mpi4py, stable-baselines, box2d, box2d-kengz\n",
            "Successfully installed box2d-2.3.10 box2d-kengz-2.3.3 mpi4py-3.0.3 stable-baselines-2.10.0\n"
          ],
          "name": "stdout"
        }
      ]
    },
    {
      "cell_type": "code",
      "metadata": {
        "id": "3fnZjcSpn7MK",
        "colab_type": "code",
        "colab": {}
      },
      "source": [
        "import torch\n",
        "import torch.nn as nn\n",
        "import torch.nn.functional as F\n",
        "import torch.optim as optim\n",
        "import sys\n",
        "import numpy as np\n",
        "import pandas as pd\n",
        "import gym\n",
        "import matplotlib.pyplot as plt\n",
        "from torch.distributions import Categorical\n",
        "%matplotlib inline\n",
        "\n",
        "plt.style.use('seaborn')"
      ],
      "execution_count": null,
      "outputs": []
    },
    {
      "cell_type": "markdown",
      "metadata": {
        "id": "tDPLRGLnGcjV",
        "colab_type": "text"
      },
      "source": [
        "## Gym environment\n",
        "\n",
        "As usual, we will be using the LunarLander environment."
      ]
    },
    {
      "cell_type": "code",
      "metadata": {
        "id": "1Wv2R3m_n-zP",
        "colab_type": "code",
        "colab": {
          "base_uri": "https://localhost:8080/",
          "height": 51
        },
        "outputId": "8eb0e7ef-8f13-41db-fce5-312e44756905"
      },
      "source": [
        "env = gym.make('LunarLander-v2')\n",
        "env.seed(0)\n",
        "print(env.action_space)\n",
        "print(env.observation_space)"
      ],
      "execution_count": null,
      "outputs": [
        {
          "output_type": "stream",
          "text": [
            "Discrete(4)\n",
            "Box(8,)\n"
          ],
          "name": "stdout"
        }
      ]
    },
    {
      "cell_type": "code",
      "metadata": {
        "id": "xDtA8o7ToBOn",
        "colab_type": "code",
        "colab": {}
      },
      "source": [
        "device = torch.device('cuda:0' if torch.cuda.is_available() else 'cpu')"
      ],
      "execution_count": null,
      "outputs": []
    },
    {
      "cell_type": "markdown",
      "metadata": {
        "id": "i0xQVqCXEEM8",
        "colab_type": "text"
      },
      "source": [
        "## Template for Deep Network\n",
        "\n",
        "In this particular implementation I have decided to share some parameters between the actor and the critic. There is no particular reason behind it, the algorithm works even if we use separate parameters.\n",
        "\n",
        "The model has a shared `stem` consisting of two linear layers and relu activations. Then there are two `head`s for each outputs: \n",
        "\n",
        "  1. The actor returns the softmaxed probability distribution of the actions according to the policy, given the state.\n",
        "  2. The critic returns a single number, which is the expected value of the given state. "
      ]
    },
    {
      "cell_type": "code",
      "metadata": {
        "id": "ySe9--SvoCBv",
        "colab_type": "code",
        "colab": {}
      },
      "source": [
        "class ActorCritic(nn.Module):\n",
        "  def __init__(self, state_size, action_size, fc1_size = 128, fc2_size = 256):\n",
        "    super(ActorCritic, self).__init__()\n",
        "\n",
        "    self.stem = nn.Sequential(\n",
        "        nn.Linear(state_size, fc1_size),\n",
        "        nn.ReLU(),\n",
        "        nn.Linear(fc1_size, fc2_size),\n",
        "        nn.ReLU()\n",
        "    )\n",
        "\n",
        "    self.actor = nn.Sequential(\n",
        "        self.stem,\n",
        "        nn.Linear(fc2_size, action_size),\n",
        "        nn.Softmax()\n",
        "    )\n",
        "    \n",
        "    self.critic = nn.Sequential(\n",
        "        self.stem,\n",
        "        nn.Linear(fc2_size, 1),\n",
        "    )\n",
        "\n",
        "  def forward(self, x):\n",
        "\n",
        "    value = self.critic(x)\n",
        "    probabilities = self.actor(x)\n",
        "    dist = Categorical(probabilities)\n",
        "\n",
        "    return dist, value"
      ],
      "execution_count": null,
      "outputs": []
    },
    {
      "cell_type": "markdown",
      "metadata": {
        "id": "0y0TDFXW0F0_",
        "colab_type": "text"
      },
      "source": [
        "## Monte carlo variants\n",
        "There are some implementation of this algorithm as monte carlo method as well. This implementation will not follow that variant.\n",
        "\n",
        "To do it, all we need to do is only call learn only when an episode is finished. A simple check on the done flag for every time step will do the trick. We will have to store the rewards, values and log probs upto that point. These quantities will then be used to update the policy and the value function. "
      ]
    },
    {
      "cell_type": "code",
      "metadata": {
        "id": "v5l2o9bwoZcv",
        "colab_type": "code",
        "colab": {}
      },
      "source": [
        "class ValueACAgent():\n",
        "  def __init__(self, lr, state_size, action_size, fc1_size = 128, fc2_size = 256, gamma= 0.99):\n",
        "    self.gamma = gamma\n",
        "    self.actor_critic = ActorCritic(state_size, action_size, fc1_size, fc2_size).to(device)\n",
        "    self.optimizer = optim.Adam(self.actor_critic.parameters(), lr)\n",
        "    self.log_probs = None\n",
        "\n",
        "  def choose_action(self, state):\n",
        "    action_probs, _ = self.actor_critic.forward(torch.tensor(state).to(device))\n",
        "    action = action_probs.sample()\n",
        "    self.log_probs = action_probs.log_prob(action)\n",
        "    \n",
        "    return action.item()\n",
        "\n",
        "  def learn(self, state, reward, done):\n",
        "    _, value = self.actor_critic.forward(torch.tensor(state).to(device))\n",
        "    \n",
        "    delta = reward - value\n",
        "\n",
        "    actor_loss = -self.log_probs*delta\n",
        "    critic_loss = (delta**2)\n",
        "\n",
        "    loss = actor_loss + 0.5*critic_loss\n",
        "\n",
        "    self.optimizer.zero_grad()\n",
        "    loss.backward()\n",
        "    self.optimizer.step()"
      ],
      "execution_count": null,
      "outputs": []
    },
    {
      "cell_type": "code",
      "metadata": {
        "id": "HYDVnUqPH6JV",
        "colab_type": "code",
        "colab": {
          "base_uri": "https://localhost:8080/",
          "height": 34
        },
        "outputId": "7cc00e42-439d-47ae-f365-f79cf3c9a65e"
      },
      "source": [
        "state_size = env.observation_space.shape[0]\n",
        "action_size = env.action_space.n\n",
        "\n",
        "print('State size: {}, action size: {}'.format(state_size, action_size))"
      ],
      "execution_count": null,
      "outputs": [
        {
          "output_type": "stream",
          "text": [
            "State size: 8, action size: 4\n"
          ],
          "name": "stdout"
        }
      ]
    },
    {
      "cell_type": "code",
      "metadata": {
        "id": "68zoBMD_qxTk",
        "colab_type": "code",
        "colab": {}
      },
      "source": [
        "agent = ValueACAgent(1e-5, state_size=state_size, action_size=action_size)\n",
        "\n",
        "N_EPISODES = 3000\n",
        "MAX_STEPS = 1000\n",
        "gamma = 0.99\n",
        "PRINT_EVERY = 50\n",
        "ENV_SOLVED = 200"
      ],
      "execution_count": null,
      "outputs": []
    },
    {
      "cell_type": "markdown",
      "metadata": {
        "id": "SL_9_wu7T37K",
        "colab_type": "text"
      },
      "source": [
        "## N step variants\n",
        "\n",
        "In This implementation the agent learns in every timestep. Effectively agent.learn should be called after every n steps. Subsequent states, rewards and done flags must be stored."
      ]
    },
    {
      "cell_type": "code",
      "metadata": {
        "id": "Gdjt5JOtH6kR",
        "colab_type": "code",
        "colab": {}
      },
      "source": [
        "def train(agent):\n",
        "  score_history = []\n",
        "  print_score = []\n",
        "  for i in range(N_EPISODES):\n",
        "    state = env.reset()\n",
        "    episode_score = 0\n",
        "    done = False\n",
        "\n",
        "    while not done:\n",
        "      action = agent.choose_action(state)\n",
        "      next_state, reward, done, info = env.step(action)\n",
        "      agent.learn(state, reward, done)\n",
        "      \n",
        "      state = next_state\n",
        "      episode_score += reward\n",
        "\n",
        "    score_history.append(episode_score)\n",
        "    print_score.append(episode_score)\n",
        "    if i % PRINT_EVERY == 0 :\n",
        "      print('\\r Progress {}/{}, average score:{:.2f}'.format(i, N_EPISODES, np.mean(print_score)), end=\"\")\n",
        "      print_score = []\n",
        "    if episode_score == ENV_SOLVED :\n",
        "      print('The Environment is solved')\n",
        "  return score_history"
      ],
      "execution_count": null,
      "outputs": []
    },
    {
      "cell_type": "code",
      "metadata": {
        "id": "oL3S9dR5D3KE",
        "colab_type": "code",
        "colab": {}
      },
      "source": [
        "def plot(score, string):\n",
        "  plt.figure(figsize=(10,6))\n",
        "  plt.plot(score)\n",
        "  plt.plot(pd.Series(score).rolling(100).mean())\n",
        "  plt.title('%s Training,'%string)\n",
        "  plt.xlabel('# of episodes')\n",
        "  plt.ylabel('score')\n",
        "  plt.show()"
      ],
      "execution_count": null,
      "outputs": []
    },
    {
      "cell_type": "code",
      "metadata": {
        "id": "Yhl71qt7_1h3",
        "colab_type": "code",
        "colab": {
          "base_uri": "https://localhost:8080/",
          "height": 454
        },
        "outputId": "5fd0a148-7b0e-4f32-e8b9-5b5c643903b1"
      },
      "source": [
        "score = train(agent)\n",
        "plot(score, 'Value Actor Critic')"
      ],
      "execution_count": null,
      "outputs": [
        {
          "output_type": "stream",
          "text": [
            "/usr/local/lib/python3.6/dist-packages/torch/nn/modules/container.py:117: UserWarning: Implicit dimension choice for softmax has been deprecated. Change the call to include dim=X as an argument.\n",
            "  input = module(input)\n"
          ],
          "name": "stderr"
        },
        {
          "output_type": "stream",
          "text": [
            " Progress 2950/3000, average score:-80.20"
          ],
          "name": "stdout"
        },
        {
          "output_type": "display_data",
          "data": {
            "image/png": "[encoded data removed]",
            "text/plain": [
              "<Figure size 720x432 with 1 Axes>"
            ]
          },
          "metadata": {
            "tags": []
          }
        }
      ]
    },
    {
      "cell_type": "markdown",
      "metadata": {
        "id": "UDHEarx0eIZ7",
        "colab_type": "text"
      },
      "source": [
        "##### As we can see, the agent isn't actually that great. But slowly and surely it shows increase in performance on average. The Value actor critic can be quite unstable while training, as seen from the huge fluctuations of reward between episodes. It takes more episodes than all other methods we've covered so far. It does not solve the problem within our episode limit, but it is very close. "
      ]
    }
  ]
}